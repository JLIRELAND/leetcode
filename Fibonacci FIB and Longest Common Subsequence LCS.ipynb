{
 "cells": [
  {
   "cell_type": "code",
   "execution_count": 21,
   "source": [
    "def fib(n):\r\n",
    "    f = [0]*n\r\n",
    "    f[0] = 0\r\n",
    "    f[1] = 1\r\n",
    "    for i in range(2,n):\r\n",
    "        f[i] = f[i-1] + f[i-2]\r\n",
    "    return(f[n-1])"
   ],
   "outputs": [],
   "metadata": {}
  },
  {
   "cell_type": "code",
   "execution_count": 22,
   "source": [
    "fib(6)"
   ],
   "outputs": [
    {
     "output_type": "execute_result",
     "data": {
      "text/plain": [
       "5"
      ]
     },
     "metadata": {},
     "execution_count": 22
    }
   ],
   "metadata": {}
  },
  {
   "cell_type": "code",
   "execution_count": 65,
   "source": [
    "def LCS(x,y):\r\n",
    "    m = len(x)\r\n",
    "    n = len(y)\r\n",
    "    arr = [[0 for a in range(n+1)] for b in range(m+1)] \r\n",
    "    for i in range(1,m+1):\r\n",
    "        for j in range(1,n+1):\r\n",
    "            if i == 0 or j == 0:\r\n",
    "                arr[i][j] = 0\r\n",
    "            elif x[i-1] == y[j-1]:\r\n",
    "                arr[i][j] = arr[i-1][j-1]+1\r\n",
    "            else:\r\n",
    "                arr[i][j] = max(arr[i-1][j], arr[i][j-1])\r\n",
    "\r\n",
    "\r\n",
    "\r\n",
    "\r\n",
    "\r\n",
    "\r\n",
    "    return arr[i][j], arr"
   ],
   "outputs": [],
   "metadata": {}
  },
  {
   "cell_type": "code",
   "execution_count": 66,
   "source": [
    "print(\"Longest common subsequence length: \" + str(LCS('treabcdef','traedef')[0]))"
   ],
   "outputs": [
    {
     "output_type": "stream",
     "name": "stdout",
     "text": [
      "Longest common subsequence length: 6\n"
     ]
    }
   ],
   "metadata": {}
  }
 ],
 "metadata": {
  "orig_nbformat": 4,
  "language_info": {
   "name": "python",
   "version": "3.8.5",
   "mimetype": "text/x-python",
   "codemirror_mode": {
    "name": "ipython",
    "version": 3
   },
   "pygments_lexer": "ipython3",
   "nbconvert_exporter": "python",
   "file_extension": ".py"
  },
  "kernelspec": {
   "name": "python3",
   "display_name": "Python 3.8.5 64-bit"
  },
  "interpreter": {
   "hash": "2db524e06e9f5f4ffedc911c917cb75e12dbc923643829bf417064a77eb14d37"
  }
 },
 "nbformat": 4,
 "nbformat_minor": 2
}