{
 "cells": [
  {
   "cell_type": "markdown",
   "source": [
    "<h1> Longest Increasing Subsequence </h1>\r\n",
    "<h3> Testing </h3>"
   ],
   "metadata": {}
  },
  {
   "cell_type": "code",
   "execution_count": 3,
   "source": [
    "def LIS(subsequence):\r\n",
    "    n = len(subsequence)\r\n",
    "    lis = [1]*n\r\n",
    "    for i in range(1, n):\r\n",
    "        for j in range(0, i):\r\n",
    "            if subsequence[i] > subsequence[j] and lis[i] < lis[j]+1:\r\n",
    "                lis[i] = lis[j]+1\r\n",
    "\r\n",
    "    maxi = 0\r\n",
    "    for i in range(n):\r\n",
    "        maxi = max(maxi, lis[i])\r\n",
    "                    \r\n",
    "    return maxi"
   ],
   "outputs": [],
   "metadata": {}
  },
  {
   "cell_type": "code",
   "execution_count": 4,
   "source": [
    "def LIS_n(subsequence, number):\r\n",
    "    lis = [1]*number\r\n",
    "    for i in range(1, number):\r\n",
    "        for j in range(0, i):\r\n",
    "            if subsequence[i] > subsequence[j] and lis[i] < lis[j]+1:\r\n",
    "                lis[i] = lis[j]+1\r\n",
    "\r\n",
    "    maxi = 0\r\n",
    "    maxi_index = 0\r\n",
    "    for i in range(number):\r\n",
    "        if maxi < lis[i]:\r\n",
    "            maxi_index = i\r\n",
    "        maxi = max(maxi, lis[i])             \r\n",
    "    return lis[maxi_index]"
   ],
   "outputs": [],
   "metadata": {}
  },
  {
   "cell_type": "code",
   "execution_count": 5,
   "source": [
    "def LIS_range(subsequence,startIndex,endIndex):\r\n",
    "    subsequence = subsequence[startIndex:endIndex+1]\r\n",
    "    n = len(subsequence)\r\n",
    "    lis = [1]*n\r\n",
    "    for i in range(1, n):\r\n",
    "        for j in range(0, i):\r\n",
    "            if subsequence[i] > subsequence[j] and lis[i] < lis[j]+1:\r\n",
    "                lis[i] = lis[j]+1\r\n",
    "\r\n",
    "    maxi = 0\r\n",
    "    for i in range(n):\r\n",
    "        maxi = max(maxi, lis[i])\r\n",
    "                    \r\n",
    "    return maxi"
   ],
   "outputs": [],
   "metadata": {}
  },
  {
   "cell_type": "code",
   "execution_count": 8,
   "source": [
    "if __name__ == '__main__':\r\n",
    "    subsequence = [3,4,-1,0,6,2,3,4]\r\n",
    "    print(\"Sequence: \" + str(subsequence))\r\n",
    "    print(\"Longest Increasing Subsequence: \" + str(LIS(subsequence)))\r\n",
    "    print(\"Longest Increasing Subsequence by Number (thru 4): \" + str(LIS_n(subsequence,4)))\r\n",
    "    print(\"Longest Increasing Subsequence by Range (5 thru 7): \" + str(LIS_range(subsequence,5,7)))"
   ],
   "outputs": [
    {
     "output_type": "stream",
     "name": "stdout",
     "text": [
      "Sequence: [3, 4, -1, 0, 6, 2, 3, 4]\n",
      "Longest Increasing Subsequence: 5\n",
      "Longest Increasing Subsequence by Number (thru 4): 2\n",
      "Longest Increasing Subsequence by Range (5 thru 7): 3\n"
     ]
    }
   ],
   "metadata": {}
  },
  {
   "cell_type": "code",
   "execution_count": null,
   "source": [],
   "outputs": [],
   "metadata": {}
  }
 ],
 "metadata": {
  "orig_nbformat": 4,
  "language_info": {
   "name": "python",
   "version": "3.8.5",
   "mimetype": "text/x-python",
   "codemirror_mode": {
    "name": "ipython",
    "version": 3
   },
   "pygments_lexer": "ipython3",
   "nbconvert_exporter": "python",
   "file_extension": ".py"
  },
  "kernelspec": {
   "name": "python3",
   "display_name": "Python 3.8.5 64-bit"
  },
  "interpreter": {
   "hash": "2db524e06e9f5f4ffedc911c917cb75e12dbc923643829bf417064a77eb14d37"
  }
 },
 "nbformat": 4,
 "nbformat_minor": 2
}